{
  "cells": [
    {
      "cell_type": "markdown",
      "metadata": {
        "id": "view-in-github",
        "colab_type": "text"
      },
      "source": [
        "<a href=\"https://colab.research.google.com/github/Shenbagapriya24/Assignments/blob/main/Numpy_Assignment.ipynb\" target=\"_parent\"><img src=\"https://colab.research.google.com/assets/colab-badge.svg\" alt=\"Open In Colab\"/></a>"
      ]
    },
    {
      "cell_type": "markdown",
      "id": "96443564",
      "metadata": {
        "id": "96443564"
      },
      "source": [
        "#### 1. Import the numpy package under the name `np` (★☆☆)"
      ]
    },
    {
      "cell_type": "code",
      "execution_count": 2,
      "id": "ffe1047e",
      "metadata": {
        "id": "ffe1047e"
      },
      "outputs": [],
      "source": [
        "import numpy as np"
      ]
    },
    {
      "cell_type": "markdown",
      "id": "c807bf1d",
      "metadata": {
        "id": "c807bf1d"
      },
      "source": [
        "#### 2. Print the numpy version"
      ]
    },
    {
      "cell_type": "code",
      "execution_count": 3,
      "id": "f396b717",
      "metadata": {
        "id": "f396b717",
        "colab": {
          "base_uri": "https://localhost:8080/",
          "height": 35
        },
        "outputId": "bd556ccd-3066-44a3-8e93-3c81a5e88eac"
      },
      "outputs": [
        {
          "output_type": "execute_result",
          "data": {
            "text/plain": [
              "'1.21.6'"
            ],
            "application/vnd.google.colaboratory.intrinsic+json": {
              "type": "string"
            }
          },
          "metadata": {},
          "execution_count": 3
        }
      ],
      "source": [
        "np.version.version"
      ]
    },
    {
      "cell_type": "markdown",
      "id": "572c1bdb",
      "metadata": {
        "id": "572c1bdb"
      },
      "source": [
        "#### 3. Create a null vector of size 10 (★☆☆)"
      ]
    },
    {
      "cell_type": "code",
      "source": [
        "np.zeros(10,np.int64)"
      ],
      "metadata": {
        "id": "tVzrMFxpS7Uw",
        "colab": {
          "base_uri": "https://localhost:8080/"
        },
        "outputId": "72817127-532f-4866-d9d5-93eb2138c5a9"
      },
      "id": "tVzrMFxpS7Uw",
      "execution_count": 5,
      "outputs": [
        {
          "output_type": "execute_result",
          "data": {
            "text/plain": [
              "array([0, 0, 0, 0, 0, 0, 0, 0, 0, 0])"
            ]
          },
          "metadata": {},
          "execution_count": 5
        }
      ]
    },
    {
      "cell_type": "code",
      "source": [
        "#Problem 4: Given a numpy array whose underlying data is of 'int32' type. Change the dtype of the given object to 'float64'.\n",
        "import numpy as np\n",
        "a = np.array([1,2,3,4,5])\n",
        "print(a.dtype)\n",
        "\n",
        "a = np.array([1,2,3,4,5],np.float64)\n",
        "print(a.dtype)\n"
      ],
      "metadata": {
        "colab": {
          "base_uri": "https://localhost:8080/"
        },
        "id": "5JF9FnmKTlMk",
        "outputId": "c3105a2e-2b89-4b49-e23e-7b64239f796f"
      },
      "id": "5JF9FnmKTlMk",
      "execution_count": 9,
      "outputs": [
        {
          "output_type": "stream",
          "name": "stdout",
          "text": [
            "int64\n",
            "float64\n"
          ]
        }
      ]
    },
    {
      "cell_type": "markdown",
      "id": "3add7101",
      "metadata": {
        "id": "3add7101"
      },
      "source": [
        "6. Create a null vector of size 10 but the fifth value which is 1 (★☆☆)"
      ]
    },
    {
      "cell_type": "markdown",
      "source": [
        "#### 4. Numpy where Problem\n",
        "\n",
        "Say we have a numpy array A \n",
        "\n",
        "[[1 2 3]\n",
        " [4 5 6]]\n",
        "\n",
        "Create a new matrix with Indices of elements <4\n",
        "\n",
        "Output\n",
        "Elements which are <4\n",
        "array([1, 2, 3])"
      ],
      "metadata": {
        "id": "hgzPXMtJ5i5v"
      },
      "id": "hgzPXMtJ5i5v"
    },
    {
      "cell_type": "code",
      "execution_count": 3,
      "id": "2edf3c42",
      "metadata": {
        "id": "2edf3c42",
        "colab": {
          "base_uri": "https://localhost:8080/"
        },
        "outputId": "3e300466-b09e-400b-e58b-73be32daa64e"
      },
      "outputs": [
        {
          "output_type": "stream",
          "name": "stdout",
          "text": [
            "[[1 2 3]]\n"
          ]
        }
      ],
      "source": [
        "arrA = np.array([[1,2,3],[4,5,6]])\n",
        "print(arrA[0:1])"
      ]
    },
    {
      "cell_type": "markdown",
      "id": "cfc46304",
      "metadata": {
        "id": "cfc46304"
      },
      "source": [
        "#### 5. Create a vector with values ranging from 10 to 49 (★☆☆)"
      ]
    },
    {
      "cell_type": "code",
      "execution_count": null,
      "id": "d8b86640",
      "metadata": {
        "id": "d8b86640",
        "colab": {
          "base_uri": "https://localhost:8080/"
        },
        "outputId": "3ad1ff35-4108-4ad8-dbb9-b6587ae0a4c8"
      },
      "outputs": [
        {
          "output_type": "stream",
          "name": "stdout",
          "text": [
            "[10 11 12 13 14 15 16 17 18 19 20 21 22 23 24 25 26 27 28 29 30 31 32 33\n",
            " 34 35 36 37 38 39 40 41 42 43 44 45 46 47 48 49]\n"
          ]
        }
      ],
      "source": [
        "a = print(np.arange(10,50))"
      ]
    },
    {
      "cell_type": "markdown",
      "id": "0cc200be",
      "metadata": {
        "id": "0cc200be"
      },
      "source": [
        "#### 6. Reverse a vector (first element becomes last) (★☆☆)"
      ]
    },
    {
      "cell_type": "code",
      "execution_count": null,
      "id": "ec044bb5",
      "metadata": {
        "id": "ec044bb5",
        "colab": {
          "base_uri": "https://localhost:8080/"
        },
        "outputId": "d9689055-3b9d-428e-8eb6-a9fe8f0b7d21"
      },
      "outputs": [
        {
          "output_type": "stream",
          "name": "stdout",
          "text": [
            "[49 48 47 46 45 44 43 42 41 40 39 38 37 36 35 34 33 32 31 30 29 28 27 26\n",
            " 25 24 23 22 21 20 19 18 17 16 15 14 13 12 11 10]\n"
          ]
        }
      ],
      "source": [
        "a = np.arange(10,50)\n",
        "b = a[-1:-49:-1]\n",
        "print(b)"
      ]
    },
    {
      "cell_type": "markdown",
      "id": "29d9ede4",
      "metadata": {
        "id": "29d9ede4"
      },
      "source": [
        "#### 7. Create a 3x3 matrix with values ranging from 0 to 8 (★☆☆)"
      ]
    },
    {
      "cell_type": "code",
      "execution_count": null,
      "id": "d9e39043",
      "metadata": {
        "id": "d9e39043",
        "colab": {
          "base_uri": "https://localhost:8080/"
        },
        "outputId": "c0a4dcca-8c33-404c-edc9-ea85d3c01440"
      },
      "outputs": [
        {
          "output_type": "execute_result",
          "data": {
            "text/plain": [
              "array([[0, 1, 2],\n",
              "       [3, 4, 5],\n",
              "       [6, 7, 8]])"
            ]
          },
          "metadata": {},
          "execution_count": 25
        }
      ],
      "source": [
        "x = np.arange(0,9)\n",
        "x.reshape(3,3)"
      ]
    },
    {
      "cell_type": "markdown",
      "id": "88905ceb",
      "metadata": {
        "id": "88905ceb"
      },
      "source": [
        "#### 8. Find indices of non-zero elements from [1,2,0,0,4,0] (★☆☆)"
      ]
    },
    {
      "cell_type": "code",
      "source": [
        "a = np.array([1,2,0,0,4,0])\n",
        "b = np.nonzero(a)\n",
        "print(b)"
      ],
      "metadata": {
        "colab": {
          "base_uri": "https://localhost:8080/"
        },
        "id": "kccUskuKfM74",
        "outputId": "19c0e3e5-6f68-4775-e852-ca4c08c5730e"
      },
      "id": "kccUskuKfM74",
      "execution_count": 4,
      "outputs": [
        {
          "output_type": "stream",
          "name": "stdout",
          "text": [
            "(array([0, 1, 4]),)\n"
          ]
        }
      ]
    },
    {
      "cell_type": "markdown",
      "id": "49603e91",
      "metadata": {
        "id": "49603e91"
      },
      "source": [
        "#### 11. Create a 3x3 identity matrix (★☆☆)"
      ]
    },
    {
      "cell_type": "code",
      "source": [
        "np.identity(3)"
      ],
      "metadata": {
        "colab": {
          "base_uri": "https://localhost:8080/"
        },
        "id": "8l1Tm910gEVb",
        "outputId": "3ceb2ab5-69d9-4ced-fd74-9412c26f7069"
      },
      "id": "8l1Tm910gEVb",
      "execution_count": null,
      "outputs": [
        {
          "output_type": "execute_result",
          "data": {
            "text/plain": [
              "array([[1., 0., 0.],\n",
              "       [0., 1., 0.],\n",
              "       [0., 0., 1.]])"
            ]
          },
          "metadata": {},
          "execution_count": 32
        }
      ]
    },
    {
      "cell_type": "markdown",
      "id": "e15c249a",
      "metadata": {
        "id": "e15c249a"
      },
      "source": [
        "#### 12. Create a 3x3x3 array with random values (★☆☆)"
      ]
    },
    {
      "cell_type": "code",
      "execution_count": null,
      "id": "ab21ed50",
      "metadata": {
        "id": "ab21ed50",
        "colab": {
          "base_uri": "https://localhost:8080/"
        },
        "outputId": "80e15b41-22b7-4778-da31-685b5004d0d5"
      },
      "outputs": [
        {
          "output_type": "stream",
          "name": "stdout",
          "text": [
            "[[[3 1 4]\n",
            "  [7 4 1]\n",
            "  [7 9 4]]\n",
            "\n",
            " [[0 9 6]\n",
            "  [0 5 9]\n",
            "  [3 6 0]]\n",
            "\n",
            " [[7 8 3]\n",
            "  [8 1 5]\n",
            "  [6 6 9]]]\n"
          ]
        }
      ],
      "source": [
        "a = np.random.randint(10, size=(3,3,3))\n",
        "print(a)"
      ]
    },
    {
      "cell_type": "markdown",
      "id": "157a129c",
      "metadata": {
        "id": "157a129c"
      },
      "source": [
        "#### 13. Create a 10x10 array with random values and find the minimum and maximum values (★☆☆)"
      ]
    },
    {
      "cell_type": "code",
      "execution_count": null,
      "id": "c0066de5",
      "metadata": {
        "id": "c0066de5",
        "colab": {
          "base_uri": "https://localhost:8080/"
        },
        "outputId": "2c81a504-f434-486a-e70e-e71e0c72ff0a"
      },
      "outputs": [
        {
          "output_type": "stream",
          "name": "stdout",
          "text": [
            "Minimum value is 2\n",
            "Maximum value is 99\n"
          ]
        }
      ],
      "source": [
        "a = np.random.randint(100, size=(10,10))\n",
        "print(\"Minimum value is\" , np.min(a))\n",
        "print(\"Maximum value is\" , np.max(a))"
      ]
    },
    {
      "cell_type": "markdown",
      "id": "d92d7b32",
      "metadata": {
        "id": "d92d7b32"
      },
      "source": [
        "#### 14. Create a random vector of size 30 and find the mean value (★☆☆)"
      ]
    },
    {
      "cell_type": "code",
      "execution_count": null,
      "id": "9672d023",
      "metadata": {
        "id": "9672d023",
        "colab": {
          "base_uri": "https://localhost:8080/"
        },
        "outputId": "fc0e984c-2c13-4bf9-a202-515b2033ca70"
      },
      "outputs": [
        {
          "output_type": "stream",
          "name": "stdout",
          "text": [
            "14.533333333333333\n"
          ]
        }
      ],
      "source": [
        "import numpy as np\n",
        "a = np.random.randint(30, size=(30))\n",
        "b = np.mean(a)\n",
        "print(b)"
      ]
    },
    {
      "cell_type": "markdown",
      "id": "f361efc0",
      "metadata": {
        "id": "f361efc0"
      },
      "source": [
        "#### 15. Create a 2d array with 1 on the border and 0 inside (★☆☆)"
      ]
    },
    {
      "cell_type": "code",
      "execution_count": null,
      "id": "a55b6666",
      "metadata": {
        "id": "a55b6666",
        "colab": {
          "base_uri": "https://localhost:8080/"
        },
        "outputId": "965a247b-811b-411c-cef2-1c9afd8b05db"
      },
      "outputs": [
        {
          "output_type": "stream",
          "name": "stdout",
          "text": [
            "[[1. 1. 1. 1. 1.]\n",
            " [1. 0. 0. 0. 1.]\n",
            " [1. 0. 0. 0. 1.]\n",
            " [1. 0. 0. 0. 1.]\n",
            " [1. 1. 1. 1. 1.]]\n"
          ]
        }
      ],
      "source": [
        "import numpy as np\n",
        "x = np.ones((5,5))\n",
        "x[1:-1,1:-1] = 0\n",
        "print(x)"
      ]
    },
    {
      "cell_type": "markdown",
      "id": "475808cb",
      "metadata": {
        "id": "475808cb"
      },
      "source": [
        "#### 16. How to add a border (filled with 0's) around an existing array? (★☆☆)"
      ]
    },
    {
      "cell_type": "code",
      "execution_count": null,
      "id": "b2df3a8a",
      "metadata": {
        "id": "b2df3a8a",
        "colab": {
          "base_uri": "https://localhost:8080/"
        },
        "outputId": "6398ba21-f7ec-4b3d-f6a7-5203e09bec18"
      },
      "outputs": [
        {
          "output_type": "stream",
          "name": "stdout",
          "text": [
            "[[0. 0. 0. 0. 0. 0. 0.]\n",
            " [0. 1. 1. 1. 1. 1. 0.]\n",
            " [0. 1. 1. 1. 1. 1. 0.]\n",
            " [0. 1. 1. 1. 1. 1. 0.]\n",
            " [0. 1. 1. 1. 1. 1. 0.]\n",
            " [0. 1. 1. 1. 1. 1. 0.]\n",
            " [0. 0. 0. 0. 0. 0. 0.]]\n"
          ]
        }
      ],
      "source": [
        "import numpy as np\n",
        "x = np.ones((5,5))\n",
        "x = np.pad(x, pad_width=1, mode='constant', constant_values=0)\n",
        "print(x)"
      ]
    },
    {
      "cell_type": "markdown",
      "id": "1af07d85",
      "metadata": {
        "id": "1af07d85"
      },
      "source": [
        "#### 17. What is the result of the following expression? (★☆☆)\n",
        "```python\n",
        "0 * np.nan\n",
        "np.nan == np.nan\n",
        "np.inf > np.nan\n",
        "np.nan - np.nan\n",
        "np.nan in set([np.nan])\n",
        "0.3 == 3 * 0.1\n",
        "```"
      ]
    },
    {
      "cell_type": "code",
      "execution_count": null,
      "id": "109cf327",
      "metadata": {
        "id": "109cf327"
      },
      "outputs": [],
      "source": [
        "0 * np.nan         #nan\n",
        "np.nan == np.nan  #false\n",
        "np.inf > np.nan   #false\n",
        "np.nan - np.nan   #nan\n",
        "np.nan in set([np.nan])   #true\n",
        "0.3 == 3 * 0.1    #false coz of precision"
      ]
    },
    {
      "cell_type": "markdown",
      "id": "6a235316",
      "metadata": {
        "id": "6a235316"
      },
      "source": [
        "#### 18. Create a 4x4 matrix with values 0,1,2,3 just below the diagonal (★☆☆)"
      ]
    },
    {
      "cell_type": "code",
      "execution_count": 3,
      "id": "f2e6cfa6",
      "metadata": {
        "id": "f2e6cfa6",
        "colab": {
          "base_uri": "https://localhost:8080/"
        },
        "outputId": "c032f065-7223-4fba-b2dc-eb12f9dfc103"
      },
      "outputs": [
        {
          "output_type": "stream",
          "name": "stdout",
          "text": [
            "[[0 0 0 0 0]\n",
            " [0 0 0 0 0]\n",
            " [0 1 0 0 0]\n",
            " [0 0 2 0 0]\n",
            " [0 0 0 3 0]]\n"
          ]
        }
      ],
      "source": [
        "import numpy as np\n",
        "x = np.diag(np.arange(4),k=-1)\n",
        "print(x)"
      ]
    },
    {
      "cell_type": "markdown",
      "id": "25362e98",
      "metadata": {
        "id": "25362e98"
      },
      "source": [
        "#### 19. Create a null vector of size 10 but the fifth value which is 1 (★☆☆)\n",
        "---\n",
        "\n"
      ]
    },
    {
      "cell_type": "code",
      "source": [
        "x = np.zeros(10)\n",
        "x[4] = 1\n",
        "print(x)"
      ],
      "metadata": {
        "colab": {
          "base_uri": "https://localhost:8080/"
        },
        "id": "gUCkoSjaFZK5",
        "outputId": "62fa0394-7c14-4454-aa83-eee0df4ade0d"
      },
      "id": "gUCkoSjaFZK5",
      "execution_count": 4,
      "outputs": [
        {
          "output_type": "stream",
          "name": "stdout",
          "text": [
            "[0. 0. 0. 0. 1. 0. 0. 0. 0. 0.]\n"
          ]
        }
      ]
    },
    {
      "cell_type": "markdown",
      "id": "fd88b3f4",
      "metadata": {
        "id": "fd88b3f4"
      },
      "source": [
        "#### 22. Normalize a 5x5 random matrix (★☆☆) Say X is 5*5 numpy array  Normalize i.e X - mean(X) / Standard Deviation of X [link text](https://)"
      ]
    },
    {
      "cell_type": "code",
      "execution_count": 4,
      "id": "ee6ced60",
      "metadata": {
        "id": "ee6ced60",
        "colab": {
          "base_uri": "https://localhost:8080/"
        },
        "outputId": "c39b9563-2461-4e3a-c45a-12eedfdd71b2"
      },
      "outputs": [
        {
          "output_type": "stream",
          "name": "stdout",
          "text": [
            "[[0.0524806  0.73796944 0.15677379 0.25383198 0.81802146]\n",
            " [0.1915337  0.39082907 0.26175227 0.94927749 0.60125331]\n",
            " [0.47434529 0.66560682 0.61529985 0.67558068 0.72490892]\n",
            " [0.07062482 0.86412735 0.62998979 0.03885611 0.46416667]\n",
            " [0.66674007 0.72851243 0.3758776  0.84980629 0.03575846]]\n",
            "After normalization:\n",
            "[[0.01830519 0.76868785 0.1324716  0.23871809 0.85631823]\n",
            " [0.17052216 0.38868442 0.24738818 1.         0.61902908]\n",
            " [0.48010694 0.68947482 0.63440539 0.70039288 0.75439092]\n",
            " [0.03816709 0.90678887 0.65048599 0.0033909  0.46896474]\n",
            " [0.69071534 0.75833557 0.37231753 0.89111207 0.        ]]\n"
          ]
        }
      ],
      "source": [
        "import numpy as np\n",
        "x= np.random.random((5,5))\n",
        "print(x)\n",
        "xmax, xmin = x.max(), x.min()\n",
        "x = (x - xmin)/(xmax - xmin)\n",
        "print(\"After normalization:\")\n",
        "print(x)"
      ]
    },
    {
      "cell_type": "markdown",
      "id": "464d8590",
      "metadata": {
        "id": "464d8590"
      },
      "source": [
        "#### 23. Numpy where Problem\n",
        "\n",
        "Say we have a numpy array A \n",
        "\n",
        "[[1 2 3]\n",
        " [4 5 6]]\n",
        "\n",
        "Create a new matrix with Indices of elements <4\n",
        "\n",
        "Output\n",
        "Elements which are <4\n",
        "array([1, 2, 3])"
      ]
    },
    {
      "cell_type": "code",
      "execution_count": 8,
      "id": "e2f9cfc6",
      "metadata": {
        "id": "e2f9cfc6",
        "colab": {
          "base_uri": "https://localhost:8080/"
        },
        "outputId": "0e071b17-9c1b-4116-d276-f6a8bd641048"
      },
      "outputs": [
        {
          "output_type": "stream",
          "name": "stdout",
          "text": [
            "[[1 2 3]]\n"
          ]
        }
      ],
      "source": [
        "arrA = np.array([[1,2,3],[4,5,6]])\n",
        "print(arrA[0:1])"
      ]
    },
    {
      "cell_type": "markdown",
      "id": "06c63bb3",
      "metadata": {
        "id": "06c63bb3"
      },
      "source": [
        "#### 24. Do a dot product of 5x3 matrix by a 3x2 matrix (real matrix product) (★☆☆)"
      ]
    },
    {
      "cell_type": "code",
      "execution_count": 12,
      "id": "9fc0d553",
      "metadata": {
        "id": "9fc0d553",
        "colab": {
          "base_uri": "https://localhost:8080/"
        },
        "outputId": "bd406160-e6ca-415d-d21e-8617c3684972"
      },
      "outputs": [
        {
          "output_type": "stream",
          "name": "stdout",
          "text": [
            "[[10  0]\n",
            " [13  2]\n",
            " [ 9  4]\n",
            " [ 5  2]\n",
            " [18  8]]\n"
          ]
        }
      ],
      "source": [
        "a = np.random.randint(5,size=(5,3))\n",
        "b = np.random.randint(5,size=(3,2))\n",
        "x = np.dot(a,b)\n",
        "print(x)"
      ]
    },
    {
      "cell_type": "markdown",
      "id": "539cd2a5",
      "metadata": {
        "id": "539cd2a5"
      },
      "source": [
        "#### 25. Consider two random array A and B, check if they are equal (★★☆)"
      ]
    },
    {
      "cell_type": "code",
      "execution_count": 13,
      "id": "5246d7bf",
      "metadata": {
        "id": "5246d7bf",
        "colab": {
          "base_uri": "https://localhost:8080/"
        },
        "outputId": "6cf10cfd-6269-4c95-e1a9-b092daea9791"
      },
      "outputs": [
        {
          "output_type": "stream",
          "name": "stdout",
          "text": [
            "[False False False False False]\n",
            "False\n"
          ]
        }
      ],
      "source": [
        "a = np.random.rand(5)\n",
        "b = np.random.rand(5)\n",
        "print(a==b)\n",
        "print(np.allclose(a,b))"
      ]
    },
    {
      "cell_type": "markdown",
      "id": "a556027a",
      "metadata": {
        "id": "a556027a"
      },
      "source": [
        "#### 26. Create random vector of size 10 and replace the maximum value by 0 (★★☆)"
      ]
    },
    {
      "cell_type": "code",
      "execution_count": 16,
      "id": "9e07cb87",
      "metadata": {
        "id": "9e07cb87",
        "colab": {
          "base_uri": "https://localhost:8080/"
        },
        "outputId": "967fb1e1-ac33-414c-b688-4bac776768de"
      },
      "outputs": [
        {
          "output_type": "stream",
          "name": "stdout",
          "text": [
            "[0.60717061 0.38503747 0.51138771 0.         0.38608688 0.85272738\n",
            " 0.22324245 0.10190758 0.71323106 0.84788563]\n"
          ]
        }
      ],
      "source": [
        "a = np.random.random(10)\n",
        "a[a.argmax()] = 0\n",
        "print(a)"
      ]
    },
    {
      "cell_type": "markdown",
      "id": "bfd2513c",
      "metadata": {
        "id": "bfd2513c"
      },
      "source": [
        "#### 27. Subtract the mean of each row of a matrix (★★☆):"
      ]
    },
    {
      "cell_type": "code",
      "source": [
        "import numpy as np\n",
        "print(\"Original matrix:\\n\")\n",
        "X = np.random.rand(5, 10)\n",
        "print(X)\n",
        "print(\"\\nSubtract the mean of each row of the said matrix:\\n\")\n",
        "Y = X - X.mean(axis=1, keepdims=True)\n",
        "print(Y)"
      ],
      "metadata": {
        "colab": {
          "base_uri": "https://localhost:8080/"
        },
        "id": "gAHOcyfEKQTJ",
        "outputId": "50c9e14f-5bf4-4176-faa7-8a1c44726fce"
      },
      "id": "gAHOcyfEKQTJ",
      "execution_count": 5,
      "outputs": [
        {
          "output_type": "stream",
          "name": "stdout",
          "text": [
            "Original matrix:\n",
            "\n",
            "[[0.2621171  0.3060149  0.94265633 0.02131426 0.04356761 0.96030021\n",
            "  0.707378   0.38867762 0.44650665 0.85158844]\n",
            " [0.58584591 0.35251098 0.71514519 0.39242577 0.89105343 0.35792843\n",
            "  0.86221007 0.40988299 0.59042994 0.84684587]\n",
            " [0.26601275 0.36441168 0.86109468 0.48763742 0.93108244 0.0036448\n",
            "  0.7617067  0.43486083 0.2748615  0.14968437]\n",
            " [0.78156514 0.73123479 0.22150399 0.40750571 0.73819059 0.57352517\n",
            "  0.01148758 0.49554051 0.70127712 0.44626838]\n",
            " [0.20340961 0.18920732 0.67196792 0.52924187 0.42262269 0.69068052\n",
            "  0.30000203 0.93044359 0.50989264 0.30812016]]\n",
            "\n",
            "Subtract the mean of each row of the said matrix:\n",
            "\n",
            "[[-0.23089501 -0.18699722  0.44964422 -0.47169785 -0.4494445   0.46728809\n",
            "   0.21436589 -0.10433449 -0.04650546  0.35857633]\n",
            " [-0.01458194 -0.24791688  0.11471733 -0.20800209  0.29062557 -0.24249943\n",
            "   0.26178221 -0.19054487 -0.00999792  0.24641801]\n",
            " [-0.18748697 -0.08908804  0.40759496  0.0341377   0.47758273 -0.44985491\n",
            "   0.30820699 -0.01863888 -0.17863822 -0.30381535]\n",
            " [ 0.27075525  0.22042489 -0.2893059  -0.10330419  0.22738069  0.06271527\n",
            "  -0.49932232 -0.01526939  0.19046723 -0.06454152]\n",
            " [-0.27214923 -0.28635152  0.19640909  0.05368304 -0.05293614  0.21512168\n",
            "  -0.17555681  0.45488475  0.03433381 -0.16743867]]\n"
          ]
        }
      ]
    }
  ],
  "metadata": {
    "colab": {
      "name": "Numpy_Assignment.ipynb",
      "provenance": [],
      "collapsed_sections": [],
      "include_colab_link": true
    },
    "language_info": {
      "name": "python"
    },
    "kernelspec": {
      "name": "python3",
      "display_name": "Python 3"
    },
    "gpuClass": "standard",
    "accelerator": "GPU"
  },
  "nbformat": 4,
  "nbformat_minor": 5
}